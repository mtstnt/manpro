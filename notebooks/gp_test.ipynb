{
 "cells": [
  {
   "cell_type": "markdown",
   "metadata": {},
   "source": [
    "### Percobaan 1: Matching untuk 3 Driver dan Customer\n",
    "#### Distance & Time(dgn Openrouteservice), Order Count & Rating.\n",
    "*) Referensi code dari project semester lalu."
   ]
  },
  {
   "cell_type": "code",
   "execution_count": 34,
   "metadata": {},
   "outputs": [],
   "source": [
    "import pandas as pd\n",
    "import pyomo.environ as pyo\n",
    "import openrouteservice as ors\n",
    "from dotenv import load_dotenv\n",
    "import os"
   ]
  },
  {
   "cell_type": "code",
   "execution_count": 35,
   "metadata": {},
   "outputs": [
    {
     "data": {
      "text/plain": [
       "(   id  latitude   longitude\n",
       " 0   0 -7.251299  112.789335\n",
       " 1   1 -7.247283  112.756581\n",
       " 2   2 -7.344951  112.760688,\n",
       "    id  latitude   longitude  rating  order_count  total_trip\n",
       " 0   0 -7.293717  112.747264       1          180    1571.400\n",
       " 1   1 -7.360642  112.716350       0           71     143.562\n",
       " 2   2 -7.257948  112.731777       3           83     489.202)"
      ]
     },
     "execution_count": 35,
     "metadata": {},
     "output_type": "execute_result"
    }
   ],
   "source": [
    "# Melakukan loading data client dan driver dari CSV.\n",
    "# File dummy dari project semester lalu.\n",
    "\n",
    "clients = pd.read_csv('../datasets/data_client.csv')\n",
    "drivers = pd.read_csv('../datasets/data_driver.csv')\n",
    "\n",
    "clients.head(3), drivers.head(3)"
   ]
  },
  {
   "cell_type": "code",
   "execution_count": 36,
   "metadata": {},
   "outputs": [
    {
     "data": {
      "text/plain": [
       "([{'id': 0, 'latitude': -7.251298999984013, 'longitude': 112.78933499965396},\n",
       "  {'id': 1, 'latitude': -7.247282999983452, 'longitude': 112.75658099973666},\n",
       "  {'id': 2, 'latitude': -7.344950999997104, 'longitude': 112.76068799972629}],\n",
       " [{'id': 0,\n",
       "   'latitude': -7.293716999989942,\n",
       "   'longitude': 112.74726399976018,\n",
       "   'rating': 1,\n",
       "   'order_count': 180,\n",
       "   'total_trip': 1571.3999999998664},\n",
       "  {'id': 1,\n",
       "   'latitude': -7.360641999999297,\n",
       "   'longitude': 112.71634999983824,\n",
       "   'rating': 0,\n",
       "   'order_count': 71,\n",
       "   'total_trip': 143.56199999999984},\n",
       "  {'id': 2,\n",
       "   'latitude': -7.2579479999849426,\n",
       "   'longitude': 112.73177699979928,\n",
       "   'rating': 3,\n",
       "   'order_count': 83,\n",
       "   'total_trip': 489.2019999999644}])"
      ]
     },
     "execution_count": 36,
     "metadata": {},
     "output_type": "execute_result"
    }
   ],
   "source": [
    "# Load top 3 data pertama menjadi list\n",
    "\n",
    "clients_data = clients[:3].to_dict('records')\n",
    "drivers_data = drivers[:3].to_dict('records')\n",
    "clients_data, drivers_data"
   ]
  },
  {
   "cell_type": "code",
   "execution_count": 37,
   "metadata": {},
   "outputs": [],
   "source": [
    "# Definisikan weight.\n",
    "weights = {\n",
    "    'distance': { 'target': 10000, 'positive': 1, 'negative': -1 },\n",
    "    'duration': { 'target': 5, 'positive': 1, 'negative': -1 },\n",
    "    'order_count': { 'target': 20, 'positive': 1, 'negative': -1 },\n",
    "    'rating': { 'target': 3, 'positive': -1, 'negative': 1 },\n",
    "}\n",
    "\n",
    "# Simpan key dari ORS\n",
    "load_dotenv(override=True)\n",
    "key = os.getenv('OPENROUTESERVICE_KEY')\n",
    "client = ors.Client(key=key, base_url='https://api.openrouteservice.org/')\n",
    "\n",
    "memo = {}"
   ]
  },
  {
   "cell_type": "code",
   "execution_count": 38,
   "metadata": {},
   "outputs": [
    {
     "data": {
      "text/plain": [
       "{0: {0: {'distance': 11244.2,\n",
       "   'duration': 733.5,\n",
       "   'order_count': 180,\n",
       "   'rating': 1},\n",
       "  1: {'distance': 6663.5, 'duration': 492.9, 'order_count': 180, 'rating': 1},\n",
       "  2: {'distance': 11275.3,\n",
       "   'duration': 893.4,\n",
       "   'order_count': 180,\n",
       "   'rating': 1}},\n",
       " 1: {0: {'distance': 20932.6,\n",
       "   'duration': 1289.7,\n",
       "   'order_count': 71,\n",
       "   'rating': 0},\n",
       "  1: {'distance': 16351.9, 'duration': 1049.0, 'order_count': 71, 'rating': 0},\n",
       "  2: {'distance': 6632.0, 'duration': 843.4, 'order_count': 71, 'rating': 0}},\n",
       " 2: {0: {'distance': 8253.3,\n",
       "   'duration': 611.5,\n",
       "   'order_count': 83,\n",
       "   'rating': 3},\n",
       "  1: {'distance': 3672.6, 'duration': 370.9, 'order_count': 83, 'rating': 3},\n",
       "  2: {'distance': 15714.5, 'duration': 997.5, 'order_count': 83, 'rating': 3}}}"
      ]
     },
     "execution_count": 38,
     "metadata": {},
     "output_type": "execute_result"
    }
   ],
   "source": [
    "# Buat mapping utk distance, duration, order count, dan rating dari masing-masing pasangan customer dan driver.\n",
    "\n",
    "def get_distance_and_duration(lat1, lon1, lat2, lon2): \n",
    "    routes = client.directions(((lon1, lat1), (lon2, lat2)), profile='driving-car')\n",
    "    return {\n",
    "            \"distance\": routes.get('routes')[0]['summary']['distance'], \n",
    "            \"duration\": routes.get('routes')[0]['summary']['duration']\n",
    "        }\n",
    "\n",
    "data: dict[tuple, dict[str, any]] = {}\n",
    "for d in drivers_data:\n",
    "    d_id = d['id']\n",
    "    data[d_id] = {}\n",
    "    for c in clients_data:\n",
    "        c_id = c['id']\n",
    "        result = memo.get((d['latitude'], d['longitude'], c['latitude'], c['longitude']))\n",
    "        if result is None:\n",
    "            result = get_distance_and_duration(d['latitude'], d['longitude'], c['latitude'], c['longitude'])\n",
    "            memo[(d['latitude'], d['longitude'], c['latitude'], c['longitude'])] = result\n",
    "\n",
    "        data[d_id][c_id] = {\n",
    "            \"distance\": result['distance'],\n",
    "            \"duration\": result['duration'],\n",
    "            \"order_count\": d['order_count'],\n",
    "            \"rating\": d['rating'],\n",
    "        }\n",
    "\n",
    "data"
   ]
  },
  {
   "cell_type": "code",
   "execution_count": 39,
   "metadata": {},
   "outputs": [],
   "source": [
    "# Model pyomo utk solve GP\n",
    "model = pyo.ConcreteModel()\n",
    "model.dual = pyo.Suffix(direction=pyo.Suffix.IMPORT)\n",
    "\n",
    "# Define Variables\n",
    "drivers = [d['id'] for d in drivers_data]\n",
    "clients = [c['id'] for c in clients_data]\n",
    "\n",
    "model.x = pyo.Var(drivers, clients, domain=pyo.NonNegativeIntegers)\n",
    "\n",
    "# Define Objective\n",
    "def get_penalty(target, val, positive=True):\n",
    "  if positive:\n",
    "    if val > target: return val - target\n",
    "    else: return 0\n",
    "  else:\n",
    "    if val < target: return target - val\n",
    "    else: return 0\n",
    "\n",
    "# Penalty = (weight positive * X * deviasi dgn target / 1% dari target)\n",
    "def penalty(c, d, param):\n",
    "  m = weights[param]\n",
    "  return (\n",
    "    (m['positive'] * model.x[d, c] * get_penalty(m['target'], data[d][c][param]) / m['target'] / 100)+ \n",
    "    (m['negative'] * model.x[d, c] * get_penalty(m['target'], data[d][c][param], False) / m['target'] / 100)\n",
    "  )\n",
    "\n",
    "# Objective fn = Sum of penalty semua bidang.\n",
    "model.Cost = pyo.Objective(\n",
    "    expr = sum([\n",
    "        penalty(c, d, 'distance') + \n",
    "        penalty(c, d, 'duration') + \n",
    "        penalty(c, d, 'order_count') + \n",
    "        penalty(c, d, 'rating') \n",
    "        for c in clients for d in drivers\n",
    "      ]),\n",
    "    sense = pyo.minimize)\n",
    "\n",
    "# Define Constraint\n",
    "# Constraint = jumlah dari setiap Driver dengan semua pasangan Clientnya adalah 1\n",
    "model.driver = pyo.ConstraintList()\n",
    "for d in drivers:\n",
    "  model.driver.add(sum(model.x[d, c] for c in clients) == 1)\n",
    "\n",
    "model.client = pyo.ConstraintList()\n",
    "for c in clients:\n",
    "  model.client.add(sum(model.x[d, c] for d in drivers) == 1)"
   ]
  },
  {
   "cell_type": "code",
   "execution_count": 40,
   "metadata": {},
   "outputs": [
    {
     "name": "stdout",
     "output_type": "stream",
     "text": [
      "# ==========================================================\n",
      "# = Solver Results                                         =\n",
      "# ==========================================================\n",
      "# ----------------------------------------------------------\n",
      "#   Problem Information\n",
      "# ----------------------------------------------------------\n",
      "Problem: \n",
      "- Name: unknown\n",
      "  Lower bound: 4.01081547\n",
      "  Upper bound: 4.01081547\n",
      "  Number of objectives: 1\n",
      "  Number of constraints: 6\n",
      "  Number of variables: 9\n",
      "  Number of nonzeros: 9\n",
      "  Sense: minimize\n",
      "# ----------------------------------------------------------\n",
      "#   Solver Information\n",
      "# ----------------------------------------------------------\n",
      "Solver: \n",
      "- Status: ok\n",
      "  User time: -1.0\n",
      "  System time: 0.01\n",
      "  Wallclock time: 0.01\n",
      "  Termination condition: optimal\n",
      "  Termination message: Model was solved to optimality (subject to tolerances), and an optimal solution is available.\n",
      "  Statistics: \n",
      "    Branch and bound: \n",
      "      Number of bounded subproblems: 0\n",
      "      Number of created subproblems: 0\n",
      "    Black box: \n",
      "      Number of iterations: 0\n",
      "  Error rc: 0\n",
      "  Time: 0.08505702018737793\n",
      "# ----------------------------------------------------------\n",
      "#   Solution Information\n",
      "# ----------------------------------------------------------\n",
      "Solution: \n",
      "- number of solutions: 0\n",
      "  number of solutions displayed: 0\n"
     ]
    }
   ],
   "source": [
    "# Gunakan solver utk solve\n",
    "result = pyo.SolverFactory('cbc').solve(model)\n",
    "result.write()"
   ]
  },
  {
   "cell_type": "code",
   "execution_count": 1,
   "metadata": {},
   "outputs": [
    {
     "name": "stdout",
     "output_type": "stream",
     "text": [
      "Hasil dari Assignment Matching\n",
      "\n"
     ]
    },
    {
     "ename": "NameError",
     "evalue": "name 'drivers' is not defined",
     "output_type": "error",
     "traceback": [
      "\u001b[1;31m---------------------------------------------------------------------------\u001b[0m",
      "\u001b[1;31mNameError\u001b[0m                                 Traceback (most recent call last)",
      "\u001b[1;32md:\\KULIAH\\Semester 6\\Manpro\\Project\\notebooks\\gp_test.ipynb Cell 9'\u001b[0m in \u001b[0;36m<cell line: 4>\u001b[1;34m()\u001b[0m\n\u001b[0;32m      <a href='vscode-notebook-cell:/d%3A/KULIAH/Semester%206/Manpro/Project/notebooks/gp_test.ipynb#ch0000008?line=1'>2</a>\u001b[0m result_matrix \u001b[39m=\u001b[39m []\n\u001b[0;32m      <a href='vscode-notebook-cell:/d%3A/KULIAH/Semester%206/Manpro/Project/notebooks/gp_test.ipynb#ch0000008?line=2'>3</a>\u001b[0m ind \u001b[39m=\u001b[39m \u001b[39m0\u001b[39m\n\u001b[1;32m----> <a href='vscode-notebook-cell:/d%3A/KULIAH/Semester%206/Manpro/Project/notebooks/gp_test.ipynb#ch0000008?line=3'>4</a>\u001b[0m \u001b[39mfor\u001b[39;00m d \u001b[39min\u001b[39;00m drivers:\n\u001b[0;32m      <a href='vscode-notebook-cell:/d%3A/KULIAH/Semester%206/Manpro/Project/notebooks/gp_test.ipynb#ch0000008?line=4'>5</a>\u001b[0m   result_matrix\u001b[39m.\u001b[39mappend([])\n\u001b[0;32m      <a href='vscode-notebook-cell:/d%3A/KULIAH/Semester%206/Manpro/Project/notebooks/gp_test.ipynb#ch0000008?line=5'>6</a>\u001b[0m   \u001b[39mfor\u001b[39;00m c \u001b[39min\u001b[39;00m clients:\n",
      "\u001b[1;31mNameError\u001b[0m: name 'drivers' is not defined"
     ]
    }
   ],
   "source": [
    "print(\"Hasil dari Assignment Matching\\n\")\n",
    "result_matrix = []\n",
    "ind = 0\n",
    "for d in drivers:\n",
    "  result_matrix.append([])\n",
    "  for c in clients:\n",
    "    result_matrix[ind].append(model.x[d,c]())\n",
    "  ind += 1\n",
    "\n",
    "pd.DataFrame(result_matrix)"
   ]
  },
  {
   "cell_type": "code",
   "execution_count": 42,
   "metadata": {},
   "outputs": [
    {
     "name": "stdout",
     "output_type": "stream",
     "text": [
      "Driver ID 0 -> Customer ID 0\n",
      "{0: {'distance': 11244.2, 'duration': 733.5, 'order_count': 180, 'rating': 1},\n",
      " 1: {'distance': 6663.5, 'duration': 492.9, 'order_count': 180, 'rating': 1},\n",
      " 2: {'distance': 11275.3, 'duration': 893.4, 'order_count': 180, 'rating': 1}}\n",
      "Driver ID 1 -> Customer ID 2\n",
      "{0: {'distance': 20932.6, 'duration': 1289.7, 'order_count': 71, 'rating': 0},\n",
      " 1: {'distance': 16351.9, 'duration': 1049.0, 'order_count': 71, 'rating': 0},\n",
      " 2: {'distance': 6632.0, 'duration': 843.4, 'order_count': 71, 'rating': 0}}\n",
      "Driver ID 2 -> Customer ID 1\n",
      "{0: {'distance': 8253.3, 'duration': 611.5, 'order_count': 83, 'rating': 3},\n",
      " 1: {'distance': 3672.6, 'duration': 370.9, 'order_count': 83, 'rating': 3},\n",
      " 2: {'distance': 15714.5, 'duration': 997.5, 'order_count': 83, 'rating': 3}}\n"
     ]
    }
   ],
   "source": [
    "from pprint import pprint\n",
    "\n",
    "for i in range(len(result_matrix)):\n",
    "    for j in range(len(result_matrix[i])):\n",
    "        if result_matrix[i][j] == 1:\n",
    "            print(f\"Driver ID {i} -> Customer ID {j}\")\n",
    "            pprint(data[i])"
   ]
  }
 ],
 "metadata": {
  "interpreter": {
   "hash": "2515d2d748ffdb089d2cbf0e4e8bad92f58f92628d19784b99aaf311bd43fc85"
  },
  "kernelspec": {
   "display_name": "Python 3.10.0 ('opt')",
   "language": "python",
   "name": "python3"
  },
  "language_info": {
   "codemirror_mode": {
    "name": "ipython",
    "version": 3
   },
   "file_extension": ".py",
   "mimetype": "text/x-python",
   "name": "python",
   "nbconvert_exporter": "python",
   "pygments_lexer": "ipython3",
   "version": "3.10.0"
  },
  "orig_nbformat": 4
 },
 "nbformat": 4,
 "nbformat_minor": 2
}
