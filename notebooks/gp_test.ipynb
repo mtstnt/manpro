{
 "cells": [
  {
   "cell_type": "markdown",
   "metadata": {},
   "source": [
    "### Percobaan 1: Matching untuk 3 Driver dan Customer\n",
    "#### Distance & Time(dgn Openrouteservice), Order Count & Rating.\n",
    "*) Referensi code dari project semester lalu."
   ]
  },
  {
   "cell_type": "code",
   "execution_count": 1,
   "metadata": {},
   "outputs": [],
   "source": [
    "import pandas as pd\n",
    "import pyomo.environ as pyo\n",
    "import openrouteservice as ors\n",
    "from dotenv import load_dotenv\n",
    "import os"
   ]
  },
  {
   "cell_type": "code",
   "execution_count": 2,
   "metadata": {},
   "outputs": [
    {
     "data": {
      "text/plain": [
       "(   id  latitude   longitude\n",
       " 0   0 -7.251299  112.789335\n",
       " 1   1 -7.247283  112.756581\n",
       " 2   2 -7.344951  112.760688,\n",
       "    id  latitude   longitude  rating  order_count  total_trip\n",
       " 0   0 -7.293717  112.747264       1          180    1571.400\n",
       " 1   1 -7.360642  112.716350       0           71     143.562\n",
       " 2   2 -7.257948  112.731777       3           83     489.202)"
      ]
     },
     "execution_count": 2,
     "metadata": {},
     "output_type": "execute_result"
    }
   ],
   "source": [
    "# Melakukan loading data client dan driver dari CSV.\n",
    "# File dummy dari project semester lalu.\n",
    "\n",
    "clients = pd.read_csv('../datasets/data_client.csv')\n",
    "drivers = pd.read_csv('../datasets/data_driver.csv')\n",
    "\n",
    "clients.head(3), drivers.head(3)"
   ]
  },
  {
   "cell_type": "code",
   "execution_count": 3,
   "metadata": {},
   "outputs": [
    {
     "data": {
      "text/plain": [
       "([{'id': 0, 'latitude': -7.251298999984013, 'longitude': 112.78933499965396},\n",
       "  {'id': 1, 'latitude': -7.247282999983452, 'longitude': 112.75658099973666},\n",
       "  {'id': 2, 'latitude': -7.344950999997104, 'longitude': 112.76068799972629}],\n",
       " [{'id': 0,\n",
       "   'latitude': -7.293716999989942,\n",
       "   'longitude': 112.74726399976018,\n",
       "   'rating': 1,\n",
       "   'order_count': 180,\n",
       "   'total_trip': 1571.3999999998664},\n",
       "  {'id': 1,\n",
       "   'latitude': -7.360641999999297,\n",
       "   'longitude': 112.71634999983824,\n",
       "   'rating': 0,\n",
       "   'order_count': 71,\n",
       "   'total_trip': 143.56199999999984},\n",
       "  {'id': 2,\n",
       "   'latitude': -7.2579479999849426,\n",
       "   'longitude': 112.73177699979928,\n",
       "   'rating': 3,\n",
       "   'order_count': 83,\n",
       "   'total_trip': 489.2019999999644}])"
      ]
     },
     "execution_count": 3,
     "metadata": {},
     "output_type": "execute_result"
    }
   ],
   "source": [
    "# Load top 3 data pertama menjadi list\n",
    "\n",
    "clients_data = clients[:3].to_dict('records')\n",
    "drivers_data = drivers[:3].to_dict('records')\n",
    "clients_data, drivers_data"
   ]
  },
  {
   "cell_type": "code",
   "execution_count": 4,
   "metadata": {},
   "outputs": [],
   "source": [
    "# Definisikan weight.\n",
    "weights = {\n",
    "    'distance': { 'target': 10000, 'positive': 1, 'negative': -1 },\n",
    "    'duration': { 'target': 5, 'positive': 1, 'negative': -1 },\n",
    "    'order_count': { 'target': 20, 'positive': 1, 'negative': -1 },\n",
    "    'rating': { 'target': 3, 'positive': -1, 'negative': 1 },\n",
    "}\n",
    "\n",
    "# Simpan key dari ORS\n",
    "load_dotenv(override=True)\n",
    "key = os.getenv('OPENROUTESERVICE_KEY')\n",
    "client = ors.Client(key=key, base_url='https://api.openrouteservice.org/')\n",
    "\n",
    "memo = {}"
   ]
  },
  {
   "cell_type": "code",
   "execution_count": 5,
   "metadata": {},
   "outputs": [
    {
     "ename": "ApiError",
     "evalue": "401 ({'error': 'Authorization field/api_key missing in request. If you do not have a token, please sign up for one at https://openrouteservice.org'})",
     "output_type": "error",
     "traceback": [
      "\u001b[1;31m---------------------------------------------------------------------------\u001b[0m",
      "\u001b[1;31mApiError\u001b[0m                                  Traceback (most recent call last)",
      "\u001b[1;32md:\\Materi_Kuliah\\Semester_6\\Manpro\\ProjectManproTI\\Code_Project\\manpro\\notebooks\\gp_test.ipynb Cell 6'\u001b[0m in \u001b[0;36m<cell line: 11>\u001b[1;34m()\u001b[0m\n\u001b[0;32m     <a href='vscode-notebook-cell:/d%3A/Materi_Kuliah/Semester_6/Manpro/ProjectManproTI/Code_Project/manpro/notebooks/gp_test.ipynb#ch0000005?line=15'>16</a>\u001b[0m result \u001b[39m=\u001b[39m memo\u001b[39m.\u001b[39mget((d[\u001b[39m'\u001b[39m\u001b[39mlatitude\u001b[39m\u001b[39m'\u001b[39m], d[\u001b[39m'\u001b[39m\u001b[39mlongitude\u001b[39m\u001b[39m'\u001b[39m], c[\u001b[39m'\u001b[39m\u001b[39mlatitude\u001b[39m\u001b[39m'\u001b[39m], c[\u001b[39m'\u001b[39m\u001b[39mlongitude\u001b[39m\u001b[39m'\u001b[39m]))\n\u001b[0;32m     <a href='vscode-notebook-cell:/d%3A/Materi_Kuliah/Semester_6/Manpro/ProjectManproTI/Code_Project/manpro/notebooks/gp_test.ipynb#ch0000005?line=16'>17</a>\u001b[0m \u001b[39mif\u001b[39;00m result \u001b[39mis\u001b[39;00m \u001b[39mNone\u001b[39;00m:\n\u001b[1;32m---> <a href='vscode-notebook-cell:/d%3A/Materi_Kuliah/Semester_6/Manpro/ProjectManproTI/Code_Project/manpro/notebooks/gp_test.ipynb#ch0000005?line=17'>18</a>\u001b[0m     result \u001b[39m=\u001b[39m get_distance_and_duration(d[\u001b[39m'\u001b[39;49m\u001b[39mlatitude\u001b[39;49m\u001b[39m'\u001b[39;49m], d[\u001b[39m'\u001b[39;49m\u001b[39mlongitude\u001b[39;49m\u001b[39m'\u001b[39;49m], c[\u001b[39m'\u001b[39;49m\u001b[39mlatitude\u001b[39;49m\u001b[39m'\u001b[39;49m], c[\u001b[39m'\u001b[39;49m\u001b[39mlongitude\u001b[39;49m\u001b[39m'\u001b[39;49m])\n\u001b[0;32m     <a href='vscode-notebook-cell:/d%3A/Materi_Kuliah/Semester_6/Manpro/ProjectManproTI/Code_Project/manpro/notebooks/gp_test.ipynb#ch0000005?line=18'>19</a>\u001b[0m     memo[(d[\u001b[39m'\u001b[39m\u001b[39mlatitude\u001b[39m\u001b[39m'\u001b[39m], d[\u001b[39m'\u001b[39m\u001b[39mlongitude\u001b[39m\u001b[39m'\u001b[39m], c[\u001b[39m'\u001b[39m\u001b[39mlatitude\u001b[39m\u001b[39m'\u001b[39m], c[\u001b[39m'\u001b[39m\u001b[39mlongitude\u001b[39m\u001b[39m'\u001b[39m])] \u001b[39m=\u001b[39m result\n\u001b[0;32m     <a href='vscode-notebook-cell:/d%3A/Materi_Kuliah/Semester_6/Manpro/ProjectManproTI/Code_Project/manpro/notebooks/gp_test.ipynb#ch0000005?line=20'>21</a>\u001b[0m data[d_id][c_id] \u001b[39m=\u001b[39m {\n\u001b[0;32m     <a href='vscode-notebook-cell:/d%3A/Materi_Kuliah/Semester_6/Manpro/ProjectManproTI/Code_Project/manpro/notebooks/gp_test.ipynb#ch0000005?line=21'>22</a>\u001b[0m     \u001b[39m\"\u001b[39m\u001b[39mdistance\u001b[39m\u001b[39m\"\u001b[39m: result[\u001b[39m'\u001b[39m\u001b[39mdistance\u001b[39m\u001b[39m'\u001b[39m],\n\u001b[0;32m     <a href='vscode-notebook-cell:/d%3A/Materi_Kuliah/Semester_6/Manpro/ProjectManproTI/Code_Project/manpro/notebooks/gp_test.ipynb#ch0000005?line=22'>23</a>\u001b[0m     \u001b[39m\"\u001b[39m\u001b[39mduration\u001b[39m\u001b[39m\"\u001b[39m: result[\u001b[39m'\u001b[39m\u001b[39mduration\u001b[39m\u001b[39m'\u001b[39m],\n\u001b[0;32m     <a href='vscode-notebook-cell:/d%3A/Materi_Kuliah/Semester_6/Manpro/ProjectManproTI/Code_Project/manpro/notebooks/gp_test.ipynb#ch0000005?line=23'>24</a>\u001b[0m     \u001b[39m\"\u001b[39m\u001b[39morder_count\u001b[39m\u001b[39m\"\u001b[39m: d[\u001b[39m'\u001b[39m\u001b[39morder_count\u001b[39m\u001b[39m'\u001b[39m],\n\u001b[0;32m     <a href='vscode-notebook-cell:/d%3A/Materi_Kuliah/Semester_6/Manpro/ProjectManproTI/Code_Project/manpro/notebooks/gp_test.ipynb#ch0000005?line=24'>25</a>\u001b[0m     \u001b[39m\"\u001b[39m\u001b[39mrating\u001b[39m\u001b[39m\"\u001b[39m: d[\u001b[39m'\u001b[39m\u001b[39mrating\u001b[39m\u001b[39m'\u001b[39m],\n\u001b[0;32m     <a href='vscode-notebook-cell:/d%3A/Materi_Kuliah/Semester_6/Manpro/ProjectManproTI/Code_Project/manpro/notebooks/gp_test.ipynb#ch0000005?line=25'>26</a>\u001b[0m }\n",
      "\u001b[1;32md:\\Materi_Kuliah\\Semester_6\\Manpro\\ProjectManproTI\\Code_Project\\manpro\\notebooks\\gp_test.ipynb Cell 6'\u001b[0m in \u001b[0;36mget_distance_and_duration\u001b[1;34m(lat1, lon1, lat2, lon2)\u001b[0m\n\u001b[0;32m      <a href='vscode-notebook-cell:/d%3A/Materi_Kuliah/Semester_6/Manpro/ProjectManproTI/Code_Project/manpro/notebooks/gp_test.ipynb#ch0000005?line=2'>3</a>\u001b[0m \u001b[39mdef\u001b[39;00m \u001b[39mget_distance_and_duration\u001b[39m(lat1, lon1, lat2, lon2): \n\u001b[1;32m----> <a href='vscode-notebook-cell:/d%3A/Materi_Kuliah/Semester_6/Manpro/ProjectManproTI/Code_Project/manpro/notebooks/gp_test.ipynb#ch0000005?line=3'>4</a>\u001b[0m     routes \u001b[39m=\u001b[39m client\u001b[39m.\u001b[39;49mdirections(((lon1, lat1), (lon2, lat2)), profile\u001b[39m=\u001b[39;49m\u001b[39m'\u001b[39;49m\u001b[39mdriving-car\u001b[39;49m\u001b[39m'\u001b[39;49m)\n\u001b[0;32m      <a href='vscode-notebook-cell:/d%3A/Materi_Kuliah/Semester_6/Manpro/ProjectManproTI/Code_Project/manpro/notebooks/gp_test.ipynb#ch0000005?line=4'>5</a>\u001b[0m     \u001b[39mreturn\u001b[39;00m {\n\u001b[0;32m      <a href='vscode-notebook-cell:/d%3A/Materi_Kuliah/Semester_6/Manpro/ProjectManproTI/Code_Project/manpro/notebooks/gp_test.ipynb#ch0000005?line=5'>6</a>\u001b[0m             \u001b[39m\"\u001b[39m\u001b[39mdistance\u001b[39m\u001b[39m\"\u001b[39m: routes\u001b[39m.\u001b[39mget(\u001b[39m'\u001b[39m\u001b[39mroutes\u001b[39m\u001b[39m'\u001b[39m)[\u001b[39m0\u001b[39m][\u001b[39m'\u001b[39m\u001b[39msummary\u001b[39m\u001b[39m'\u001b[39m][\u001b[39m'\u001b[39m\u001b[39mdistance\u001b[39m\u001b[39m'\u001b[39m], \n\u001b[0;32m      <a href='vscode-notebook-cell:/d%3A/Materi_Kuliah/Semester_6/Manpro/ProjectManproTI/Code_Project/manpro/notebooks/gp_test.ipynb#ch0000005?line=6'>7</a>\u001b[0m             \u001b[39m\"\u001b[39m\u001b[39mduration\u001b[39m\u001b[39m\"\u001b[39m: routes\u001b[39m.\u001b[39mget(\u001b[39m'\u001b[39m\u001b[39mroutes\u001b[39m\u001b[39m'\u001b[39m)[\u001b[39m0\u001b[39m][\u001b[39m'\u001b[39m\u001b[39msummary\u001b[39m\u001b[39m'\u001b[39m][\u001b[39m'\u001b[39m\u001b[39mduration\u001b[39m\u001b[39m'\u001b[39m]\n\u001b[0;32m      <a href='vscode-notebook-cell:/d%3A/Materi_Kuliah/Semester_6/Manpro/ProjectManproTI/Code_Project/manpro/notebooks/gp_test.ipynb#ch0000005?line=7'>8</a>\u001b[0m         }\n",
      "File \u001b[1;32m~\\AppData\\Local\\Programs\\Python\\Python310\\lib\\site-packages\\openrouteservice\\client.py:299\u001b[0m, in \u001b[0;36m_make_api_method.<locals>.wrapper\u001b[1;34m(*args, **kwargs)\u001b[0m\n\u001b[0;32m    <a href='file:///c%3A/Users/krisna%20bei/AppData/Local/Programs/Python/Python310/lib/site-packages/openrouteservice/client.py?line=295'>296</a>\u001b[0m \u001b[39m@functools\u001b[39m\u001b[39m.\u001b[39mwraps(func)\n\u001b[0;32m    <a href='file:///c%3A/Users/krisna%20bei/AppData/Local/Programs/Python/Python310/lib/site-packages/openrouteservice/client.py?line=296'>297</a>\u001b[0m \u001b[39mdef\u001b[39;00m \u001b[39mwrapper\u001b[39m(\u001b[39m*\u001b[39margs, \u001b[39m*\u001b[39m\u001b[39m*\u001b[39mkwargs):\n\u001b[0;32m    <a href='file:///c%3A/Users/krisna%20bei/AppData/Local/Programs/Python/Python310/lib/site-packages/openrouteservice/client.py?line=297'>298</a>\u001b[0m     args[\u001b[39m0\u001b[39m]\u001b[39m.\u001b[39m_extra_params \u001b[39m=\u001b[39m kwargs\u001b[39m.\u001b[39mpop(\u001b[39m\"\u001b[39m\u001b[39mextra_params\u001b[39m\u001b[39m\"\u001b[39m, \u001b[39mNone\u001b[39;00m)\n\u001b[1;32m--> <a href='file:///c%3A/Users/krisna%20bei/AppData/Local/Programs/Python/Python310/lib/site-packages/openrouteservice/client.py?line=298'>299</a>\u001b[0m     result \u001b[39m=\u001b[39m func(\u001b[39m*\u001b[39margs, \u001b[39m*\u001b[39m\u001b[39m*\u001b[39mkwargs)\n\u001b[0;32m    <a href='file:///c%3A/Users/krisna%20bei/AppData/Local/Programs/Python/Python310/lib/site-packages/openrouteservice/client.py?line=299'>300</a>\u001b[0m     \u001b[39mtry\u001b[39;00m:\n\u001b[0;32m    <a href='file:///c%3A/Users/krisna%20bei/AppData/Local/Programs/Python/Python310/lib/site-packages/openrouteservice/client.py?line=300'>301</a>\u001b[0m         \u001b[39mdel\u001b[39;00m args[\u001b[39m0\u001b[39m]\u001b[39m.\u001b[39m_extra_params\n",
      "File \u001b[1;32m~\\AppData\\Local\\Programs\\Python\\Python310\\lib\\site-packages\\openrouteservice\\directions.py:281\u001b[0m, in \u001b[0;36mdirections\u001b[1;34m(client, coordinates, profile, format_out, format, preference, units, language, geometry, geometry_simplify, instructions, instructions_format, alternative_routes, roundabout_exits, attributes, maneuvers, radiuses, bearings, skip_segments, continue_straight, elevation, extra_info, suppress_warnings, optimized, optimize_waypoints, options, validate, dry_run)\u001b[0m\n\u001b[0;32m    <a href='file:///c%3A/Users/krisna%20bei/AppData/Local/Programs/Python/Python310/lib/site-packages/openrouteservice/directions.py?line=277'>278</a>\u001b[0m \u001b[39mif\u001b[39;00m options:\n\u001b[0;32m    <a href='file:///c%3A/Users/krisna%20bei/AppData/Local/Programs/Python/Python310/lib/site-packages/openrouteservice/directions.py?line=278'>279</a>\u001b[0m     params[\u001b[39m'\u001b[39m\u001b[39moptions\u001b[39m\u001b[39m'\u001b[39m] \u001b[39m=\u001b[39m options\n\u001b[1;32m--> <a href='file:///c%3A/Users/krisna%20bei/AppData/Local/Programs/Python/Python310/lib/site-packages/openrouteservice/directions.py?line=280'>281</a>\u001b[0m \u001b[39mreturn\u001b[39;00m client\u001b[39m.\u001b[39;49mrequest(\u001b[39m\"\u001b[39;49m\u001b[39m/v2/directions/\u001b[39;49m\u001b[39m\"\u001b[39;49m \u001b[39m+\u001b[39;49m profile \u001b[39m+\u001b[39;49m \u001b[39m'\u001b[39;49m\u001b[39m/\u001b[39;49m\u001b[39m'\u001b[39;49m \u001b[39m+\u001b[39;49m \u001b[39mformat\u001b[39;49m, {}, post_json\u001b[39m=\u001b[39;49mparams, dry_run\u001b[39m=\u001b[39;49mdry_run)\n",
      "File \u001b[1;32m~\\AppData\\Local\\Programs\\Python\\Python310\\lib\\site-packages\\openrouteservice\\client.py:204\u001b[0m, in \u001b[0;36mClient.request\u001b[1;34m(self, url, get_params, first_request_time, retry_counter, requests_kwargs, post_json, dry_run)\u001b[0m\n\u001b[0;32m    <a href='file:///c%3A/Users/krisna%20bei/AppData/Local/Programs/Python/Python310/lib/site-packages/openrouteservice/client.py?line=199'>200</a>\u001b[0m     \u001b[39mreturn\u001b[39;00m \u001b[39mself\u001b[39m\u001b[39m.\u001b[39mrequest(url, get_params, first_request_time,\n\u001b[0;32m    <a href='file:///c%3A/Users/krisna%20bei/AppData/Local/Programs/Python/Python310/lib/site-packages/openrouteservice/client.py?line=200'>201</a>\u001b[0m                         retry_counter \u001b[39m+\u001b[39m \u001b[39m1\u001b[39m, requests_kwargs, post_json)\n\u001b[0;32m    <a href='file:///c%3A/Users/krisna%20bei/AppData/Local/Programs/Python/Python310/lib/site-packages/openrouteservice/client.py?line=202'>203</a>\u001b[0m \u001b[39mtry\u001b[39;00m:\n\u001b[1;32m--> <a href='file:///c%3A/Users/krisna%20bei/AppData/Local/Programs/Python/Python310/lib/site-packages/openrouteservice/client.py?line=203'>204</a>\u001b[0m     result \u001b[39m=\u001b[39m \u001b[39mself\u001b[39;49m\u001b[39m.\u001b[39;49m_get_body(response)\n\u001b[0;32m    <a href='file:///c%3A/Users/krisna%20bei/AppData/Local/Programs/Python/Python310/lib/site-packages/openrouteservice/client.py?line=205'>206</a>\u001b[0m     \u001b[39mreturn\u001b[39;00m result\n\u001b[0;32m    <a href='file:///c%3A/Users/krisna%20bei/AppData/Local/Programs/Python/Python310/lib/site-packages/openrouteservice/client.py?line=206'>207</a>\u001b[0m \u001b[39mexcept\u001b[39;00m exceptions\u001b[39m.\u001b[39m_RetriableRequest \u001b[39mas\u001b[39;00m e:\n",
      "File \u001b[1;32m~\\AppData\\Local\\Programs\\Python\\Python310\\lib\\site-packages\\openrouteservice\\client.py:242\u001b[0m, in \u001b[0;36mClient._get_body\u001b[1;34m(response)\u001b[0m\n\u001b[0;32m    <a href='file:///c%3A/Users/krisna%20bei/AppData/Local/Programs/Python/Python310/lib/site-packages/openrouteservice/client.py?line=236'>237</a>\u001b[0m     \u001b[39mraise\u001b[39;00m exceptions\u001b[39m.\u001b[39m_OverQueryLimit(\n\u001b[0;32m    <a href='file:///c%3A/Users/krisna%20bei/AppData/Local/Programs/Python/Python310/lib/site-packages/openrouteservice/client.py?line=237'>238</a>\u001b[0m         status_code,\n\u001b[0;32m    <a href='file:///c%3A/Users/krisna%20bei/AppData/Local/Programs/Python/Python310/lib/site-packages/openrouteservice/client.py?line=238'>239</a>\u001b[0m         body\n\u001b[0;32m    <a href='file:///c%3A/Users/krisna%20bei/AppData/Local/Programs/Python/Python310/lib/site-packages/openrouteservice/client.py?line=239'>240</a>\u001b[0m     )\n\u001b[0;32m    <a href='file:///c%3A/Users/krisna%20bei/AppData/Local/Programs/Python/Python310/lib/site-packages/openrouteservice/client.py?line=240'>241</a>\u001b[0m \u001b[39mif\u001b[39;00m status_code \u001b[39m!=\u001b[39m \u001b[39m200\u001b[39m:\n\u001b[1;32m--> <a href='file:///c%3A/Users/krisna%20bei/AppData/Local/Programs/Python/Python310/lib/site-packages/openrouteservice/client.py?line=241'>242</a>\u001b[0m     \u001b[39mraise\u001b[39;00m exceptions\u001b[39m.\u001b[39mApiError(\n\u001b[0;32m    <a href='file:///c%3A/Users/krisna%20bei/AppData/Local/Programs/Python/Python310/lib/site-packages/openrouteservice/client.py?line=242'>243</a>\u001b[0m         status_code,\n\u001b[0;32m    <a href='file:///c%3A/Users/krisna%20bei/AppData/Local/Programs/Python/Python310/lib/site-packages/openrouteservice/client.py?line=243'>244</a>\u001b[0m         body\n\u001b[0;32m    <a href='file:///c%3A/Users/krisna%20bei/AppData/Local/Programs/Python/Python310/lib/site-packages/openrouteservice/client.py?line=244'>245</a>\u001b[0m     )\n\u001b[0;32m    <a href='file:///c%3A/Users/krisna%20bei/AppData/Local/Programs/Python/Python310/lib/site-packages/openrouteservice/client.py?line=246'>247</a>\u001b[0m \u001b[39mreturn\u001b[39;00m body\n",
      "\u001b[1;31mApiError\u001b[0m: 401 ({'error': 'Authorization field/api_key missing in request. If you do not have a token, please sign up for one at https://openrouteservice.org'})"
     ]
    }
   ],
   "source": [
    "# Buat mapping utk distance, duration, order count, dan rating dari masing-masing pasangan customer dan driver.\n",
    "\n",
    "def get_distance_and_duration(lat1, lon1, lat2, lon2): \n",
    "    routes = client.directions(((lon1, lat1), (lon2, lat2)), profile='driving-car')\n",
    "    return {\n",
    "            \"distance\": routes.get('routes')[0]['summary']['distance'], \n",
    "            \"duration\": routes.get('routes')[0]['summary']['duration']\n",
    "        }\n",
    "\n",
    "data: dict[tuple, dict[str, any]] = {}\n",
    "for d in drivers_data:\n",
    "    d_id = d['id']\n",
    "    data[d_id] = {}\n",
    "    for c in clients_data:\n",
    "        c_id = c['id']\n",
    "        result = memo.get((d['latitude'], d['longitude'], c['latitude'], c['longitude']))\n",
    "        if result is None:\n",
    "            result = get_distance_and_duration(d['latitude'], d['longitude'], c['latitude'], c['longitude'])\n",
    "            memo[(d['latitude'], d['longitude'], c['latitude'], c['longitude'])] = result\n",
    "\n",
    "        data[d_id][c_id] = {\n",
    "            \"distance\": result['distance'],\n",
    "            \"duration\": result['duration'],\n",
    "            \"order_count\": d['order_count'],\n",
    "            \"rating\": d['rating'],\n",
    "        }\n",
    "\n",
    "data"
   ]
  },
  {
   "cell_type": "code",
   "execution_count": null,
   "metadata": {},
   "outputs": [],
   "source": [
    "# Model pyomo utk solve GP\n",
    "model = pyo.ConcreteModel()\n",
    "model.dual = pyo.Suffix(direction=pyo.Suffix.IMPORT)\n",
    "\n",
    "# Define Variables\n",
    "drivers = [d['id'] for d in drivers_data]\n",
    "clients = [c['id'] for c in clients_data]\n",
    "\n",
    "model.x = pyo.Var(drivers, clients, domain=pyo.NonNegativeIntegers)\n",
    "\n",
    "# Define Objective\n",
    "def get_penalty(target, val, positive=True):\n",
    "  if positive:\n",
    "    if val > target: return val - target\n",
    "    else: return 0\n",
    "  else:\n",
    "    if val < target: return target - val\n",
    "    else: return 0\n",
    "\n",
    "# Penalty = (weight positive * X * deviasi dgn target / 1% dari target)\n",
    "def penalty(c, d, param):\n",
    "  m = weights[param]\n",
    "  return (\n",
    "    (m['positive'] * model.x[d, c] * get_penalty(m['target'], data[d][c][param]) / m['target'] / 100)+ \n",
    "    (m['negative'] * model.x[d, c] * get_penalty(m['target'], data[d][c][param], False) / m['target'] / 100)\n",
    "  )\n",
    "\n",
    "# Objective fn = Sum of penalty semua bidang.\n",
    "model.Cost = pyo.Objective(\n",
    "    expr = sum([\n",
    "        penalty(c, d, 'distance') + \n",
    "        penalty(c, d, 'duration') + \n",
    "        penalty(c, d, 'order_count') + \n",
    "        penalty(c, d, 'rating') \n",
    "        for c in clients for d in drivers\n",
    "      ]),\n",
    "    sense = pyo.minimize)\n",
    "\n",
    "# Define Constraint\n",
    "# Constraint = jumlah dari setiap Driver dengan semua pasangan Clientnya adalah 1\n",
    "model.driver = pyo.ConstraintList()\n",
    "for d in drivers:\n",
    "  model.driver.add(sum(model.x[d, c] for c in clients) == 1)\n",
    "\n",
    "model.client = pyo.ConstraintList()\n",
    "for c in clients:\n",
    "  model.client.add(sum(model.x[d, c] for d in drivers) == 1)"
   ]
  },
  {
   "cell_type": "code",
   "execution_count": null,
   "metadata": {},
   "outputs": [
    {
     "name": "stdout",
     "output_type": "stream",
     "text": [
      "# ==========================================================\n",
      "# = Solver Results                                         =\n",
      "# ==========================================================\n",
      "# ----------------------------------------------------------\n",
      "#   Problem Information\n",
      "# ----------------------------------------------------------\n",
      "Problem: \n",
      "- Name: unknown\n",
      "  Lower bound: 4.01081547\n",
      "  Upper bound: 4.01081547\n",
      "  Number of objectives: 1\n",
      "  Number of constraints: 6\n",
      "  Number of variables: 9\n",
      "  Number of nonzeros: 9\n",
      "  Sense: minimize\n",
      "# ----------------------------------------------------------\n",
      "#   Solver Information\n",
      "# ----------------------------------------------------------\n",
      "Solver: \n",
      "- Status: ok\n",
      "  User time: -1.0\n",
      "  System time: 0.01\n",
      "  Wallclock time: 0.01\n",
      "  Termination condition: optimal\n",
      "  Termination message: Model was solved to optimality (subject to tolerances), and an optimal solution is available.\n",
      "  Statistics: \n",
      "    Branch and bound: \n",
      "      Number of bounded subproblems: 0\n",
      "      Number of created subproblems: 0\n",
      "    Black box: \n",
      "      Number of iterations: 0\n",
      "  Error rc: 0\n",
      "  Time: 0.08505702018737793\n",
      "# ----------------------------------------------------------\n",
      "#   Solution Information\n",
      "# ----------------------------------------------------------\n",
      "Solution: \n",
      "- number of solutions: 0\n",
      "  number of solutions displayed: 0\n"
     ]
    }
   ],
   "source": [
    "# Gunakan solver utk solve\n",
    "result = pyo.SolverFactory('cbc').solve(model)\n",
    "result.write()"
   ]
  },
  {
   "cell_type": "code",
   "execution_count": null,
   "metadata": {},
   "outputs": [
    {
     "name": "stdout",
     "output_type": "stream",
     "text": [
      "Hasil dari Assignment Matching\n",
      "\n"
     ]
    },
    {
     "ename": "NameError",
     "evalue": "name 'drivers' is not defined",
     "output_type": "error",
     "traceback": [
      "\u001b[1;31m---------------------------------------------------------------------------\u001b[0m",
      "\u001b[1;31mNameError\u001b[0m                                 Traceback (most recent call last)",
      "\u001b[1;32md:\\KULIAH\\Semester 6\\Manpro\\Project\\notebooks\\gp_test.ipynb Cell 9'\u001b[0m in \u001b[0;36m<cell line: 4>\u001b[1;34m()\u001b[0m\n\u001b[0;32m      <a href='vscode-notebook-cell:/d%3A/KULIAH/Semester%206/Manpro/Project/notebooks/gp_test.ipynb#ch0000008?line=1'>2</a>\u001b[0m result_matrix \u001b[39m=\u001b[39m []\n\u001b[0;32m      <a href='vscode-notebook-cell:/d%3A/KULIAH/Semester%206/Manpro/Project/notebooks/gp_test.ipynb#ch0000008?line=2'>3</a>\u001b[0m ind \u001b[39m=\u001b[39m \u001b[39m0\u001b[39m\n\u001b[1;32m----> <a href='vscode-notebook-cell:/d%3A/KULIAH/Semester%206/Manpro/Project/notebooks/gp_test.ipynb#ch0000008?line=3'>4</a>\u001b[0m \u001b[39mfor\u001b[39;00m d \u001b[39min\u001b[39;00m drivers:\n\u001b[0;32m      <a href='vscode-notebook-cell:/d%3A/KULIAH/Semester%206/Manpro/Project/notebooks/gp_test.ipynb#ch0000008?line=4'>5</a>\u001b[0m   result_matrix\u001b[39m.\u001b[39mappend([])\n\u001b[0;32m      <a href='vscode-notebook-cell:/d%3A/KULIAH/Semester%206/Manpro/Project/notebooks/gp_test.ipynb#ch0000008?line=5'>6</a>\u001b[0m   \u001b[39mfor\u001b[39;00m c \u001b[39min\u001b[39;00m clients:\n",
      "\u001b[1;31mNameError\u001b[0m: name 'drivers' is not defined"
     ]
    }
   ],
   "source": [
    "print(\"Hasil dari Assignment Matching\\n\")\n",
    "result_matrix = []\n",
    "ind = 0\n",
    "for d in drivers:\n",
    "  result_matrix.append([])\n",
    "  for c in clients:\n",
    "    result_matrix[ind].append(model.x[d,c]())\n",
    "  ind += 1\n",
    "\n",
    "pd.DataFrame(result_matrix)"
   ]
  },
  {
   "cell_type": "code",
   "execution_count": null,
   "metadata": {},
   "outputs": [
    {
     "name": "stdout",
     "output_type": "stream",
     "text": [
      "Driver ID 0 -> Customer ID 0\n",
      "{0: {'distance': 11244.2, 'duration': 733.5, 'order_count': 180, 'rating': 1},\n",
      " 1: {'distance': 6663.5, 'duration': 492.9, 'order_count': 180, 'rating': 1},\n",
      " 2: {'distance': 11275.3, 'duration': 893.4, 'order_count': 180, 'rating': 1}}\n",
      "Driver ID 1 -> Customer ID 2\n",
      "{0: {'distance': 20932.6, 'duration': 1289.7, 'order_count': 71, 'rating': 0},\n",
      " 1: {'distance': 16351.9, 'duration': 1049.0, 'order_count': 71, 'rating': 0},\n",
      " 2: {'distance': 6632.0, 'duration': 843.4, 'order_count': 71, 'rating': 0}}\n",
      "Driver ID 2 -> Customer ID 1\n",
      "{0: {'distance': 8253.3, 'duration': 611.5, 'order_count': 83, 'rating': 3},\n",
      " 1: {'distance': 3672.6, 'duration': 370.9, 'order_count': 83, 'rating': 3},\n",
      " 2: {'distance': 15714.5, 'duration': 997.5, 'order_count': 83, 'rating': 3}}\n"
     ]
    }
   ],
   "source": [
    "from pprint import pprint\n",
    "\n",
    "for i in range(len(result_matrix)):\n",
    "    for j in range(len(result_matrix[i])):\n",
    "        if result_matrix[i][j] == 1:\n",
    "            print(f\"Driver ID {i} -> Customer ID {j}\")\n",
    "            pprint(data[i])"
   ]
  }
 ],
 "metadata": {
  "interpreter": {
   "hash": "2515d2d748ffdb089d2cbf0e4e8bad92f58f92628d19784b99aaf311bd43fc85"
  },
  "kernelspec": {
   "display_name": "Python 3.10.0 ('opt')",
   "language": "python",
   "name": "python3"
  },
  "language_info": {
   "codemirror_mode": {
    "name": "ipython",
    "version": 3
   },
   "file_extension": ".py",
   "mimetype": "text/x-python",
   "name": "python",
   "nbconvert_exporter": "python",
   "pygments_lexer": "ipython3",
   "version": "3.10.4"
  },
  "orig_nbformat": 4
 },
 "nbformat": 4,
 "nbformat_minor": 2
}
